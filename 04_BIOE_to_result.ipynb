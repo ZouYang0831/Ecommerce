{
 "cells": [
  {
   "cell_type": "markdown",
   "id": "4c89d1c5",
   "metadata": {},
   "source": [
    "# Merge label & token"
   ]
  },
  {
   "cell_type": "code",
   "execution_count": null,
   "id": "b0d20997",
   "metadata": {},
   "outputs": [],
   "source": [
    "import pandas as pd\n",
    "import xlrd\n",
    "import xlwt\n",
    "from collections import Counter\n",
    "import time\n",
    "\n",
    "import numpy as np\n",
    "import csv\n",
    "pd.set_option('display.max_rows', None)"
   ]
  },
  {
   "cell_type": "code",
   "execution_count": null,
   "id": "de635385",
   "metadata": {},
   "outputs": [],
   "source": [
    "# combine label and token together\n",
    "dflabel = pd.read_csv('/data/label_test_1125.txt')\n",
    "dftoken = pd.read_csv('/data/token1_test.txt', quoting=csv.QUOTE_NONE,error_bad_lines=False, encoding='utf-8')\n"
   ]
  },
  {
   "cell_type": "code",
   "execution_count": null,
   "id": "da924e67",
   "metadata": {},
   "outputs": [],
   "source": [
    "dflabel.merge(dftoken, how='left', left_index=True, right_index=True).to_excel('NER_tmall_1125.xlsx')\n"
   ]
  },
  {
   "cell_type": "markdown",
   "id": "c0ec8608",
   "metadata": {},
   "source": [
    "# BIO to result"
   ]
  },
  {
   "cell_type": "code",
   "execution_count": 38,
   "id": "7824d808",
   "metadata": {},
   "outputs": [],
   "source": [
    "# import the data \n",
    "# output from NER model\n",
    "output_from_bert = pd.read_excel('NER_tmall_1125.xlsx', engine = 'openpyxl')\n",
    "\n",
    "# 业务输出需要预测的数据文件\n",
    "result = pd.read_excel('new_concept_2022-10.xlsx', engine = 'openpyxl')"
   ]
  },
  {
   "cell_type": "code",
   "execution_count": 39,
   "id": "f7fe3b08",
   "metadata": {},
   "outputs": [],
   "source": [
    "output_from_bert.columns = ['index', 'token', 'word']"
   ]
  },
  {
   "cell_type": "code",
   "execution_count": 40,
   "id": "3e282822",
   "metadata": {},
   "outputs": [
    {
     "data": {
      "text/html": [
       "<div>\n",
       "<style scoped>\n",
       "    .dataframe tbody tr th:only-of-type {\n",
       "        vertical-align: middle;\n",
       "    }\n",
       "\n",
       "    .dataframe tbody tr th {\n",
       "        vertical-align: top;\n",
       "    }\n",
       "\n",
       "    .dataframe thead th {\n",
       "        text-align: right;\n",
       "    }\n",
       "</style>\n",
       "<table border=\"1\" class=\"dataframe\">\n",
       "  <thead>\n",
       "    <tr style=\"text-align: right;\">\n",
       "      <th></th>\n",
       "      <th>index</th>\n",
       "      <th>token</th>\n",
       "      <th>word</th>\n",
       "    </tr>\n",
       "  </thead>\n",
       "  <tbody>\n",
       "    <tr>\n",
       "      <th>0</th>\n",
       "      <td>0</td>\n",
       "      <td>O</td>\n",
       "      <td>劲</td>\n",
       "    </tr>\n",
       "    <tr>\n",
       "      <th>1</th>\n",
       "      <td>1</td>\n",
       "      <td>O</td>\n",
       "      <td>度</td>\n",
       "    </tr>\n",
       "    <tr>\n",
       "      <th>2</th>\n",
       "      <td>2</td>\n",
       "      <td>O</td>\n",
       "      <td>n</td>\n",
       "    </tr>\n",
       "    <tr>\n",
       "      <th>3</th>\n",
       "      <td>3</td>\n",
       "      <td>O</td>\n",
       "      <td>9</td>\n",
       "    </tr>\n",
       "    <tr>\n",
       "      <th>4</th>\n",
       "      <td>4</td>\n",
       "      <td>O</td>\n",
       "      <td>5</td>\n",
       "    </tr>\n",
       "    <tr>\n",
       "      <th>5</th>\n",
       "      <td>5</td>\n",
       "      <td>O</td>\n",
       "      <td>型</td>\n",
       "    </tr>\n",
       "    <tr>\n",
       "      <th>6</th>\n",
       "      <td>6</td>\n",
       "      <td>O</td>\n",
       "      <td>口</td>\n",
       "    </tr>\n",
       "    <tr>\n",
       "      <th>7</th>\n",
       "      <td>7</td>\n",
       "      <td>O</td>\n",
       "      <td>罩</td>\n",
       "    </tr>\n",
       "    <tr>\n",
       "      <th>8</th>\n",
       "      <td>8</td>\n",
       "      <td>O</td>\n",
       "      <td>医</td>\n",
       "    </tr>\n",
       "    <tr>\n",
       "      <th>9</th>\n",
       "      <td>9</td>\n",
       "      <td>O</td>\n",
       "      <td>用</td>\n",
       "    </tr>\n",
       "  </tbody>\n",
       "</table>\n",
       "</div>"
      ],
      "text/plain": [
       "   index token word\n",
       "0      0     O    劲\n",
       "1      1     O    度\n",
       "2      2     O    n\n",
       "3      3     O    9\n",
       "4      4     O    5\n",
       "5      5     O    型\n",
       "6      6     O    口\n",
       "7      7     O    罩\n",
       "8      8     O    医\n",
       "9      9     O    用"
      ]
     },
     "execution_count": 40,
     "metadata": {},
     "output_type": "execute_result"
    }
   ],
   "source": [
    "output_from_bert.head(10)"
   ]
  },
  {
   "cell_type": "code",
   "execution_count": 41,
   "id": "11051a8e",
   "metadata": {},
   "outputs": [],
   "source": [
    "output_from_bert[['index', 'token', 'word']] = output_from_bert[['index', 'token', 'word']].astype(str)"
   ]
  },
  {
   "cell_type": "code",
   "execution_count": 42,
   "id": "f11334af",
   "metadata": {},
   "outputs": [
    {
     "data": {
      "text/plain": [
       "(791835, 3)"
      ]
     },
     "execution_count": 42,
     "metadata": {},
     "output_type": "execute_result"
    }
   ],
   "source": [
    "output_from_bert.shape"
   ]
  },
  {
   "cell_type": "code",
   "execution_count": 43,
   "id": "458ef8cd",
   "metadata": {},
   "outputs": [],
   "source": [
    "def test_filter(string):\n",
    "    tag = string\n",
    "    split_tag = tag.split(',')\n",
    "    tag_res = set(split_tag)\n",
    "    s = ','\n",
    "    res = s.join(tag_res)\n",
    "    return res"
   ]
  },
  {
   "cell_type": "code",
   "execution_count": 49,
   "id": "dcffca94",
   "metadata": {},
   "outputs": [
    {
     "name": "stderr",
     "output_type": "stream",
     "text": [
      "/var/folders/7y/cwfy92wj6rq6_kc_6n81nb1m0000gp/T/ipykernel_15882/2323161656.py:53: FutureWarning: As the xlwt package is no longer maintained, the xlwt engine will be removed in a future version of pandas. This is the only engine in pandas that supports writing in the xls format. Install openpyxl and write to an xlsx file instead. You can set the option io.excel.xls.writer to 'xlwt' to silence this warning. While this option is deprecated and will also raise a warning, it can be globally set and the warning suppressed.\n",
      "  result.to_excel(file2 + '-result.xls')\n"
     ]
    }
   ],
   "source": [
    "# BIO处理成实体，result新增key_words和process_key_words两列\n",
    "file2 = '新锐赛道头部商品11月'\n",
    "# insert 2 new columns \n",
    "col_name = result.columns.tolist()\n",
    "index = col_name.index('spu_name') + 1\n",
    "col_name.insert(index, 'key_words')\n",
    "index = col_name.index('key_words') + 1\n",
    "col_name.insert(index, 'process_key_words')\n",
    "\n",
    "result = result.reindex(columns=col_name)\n",
    "tag = ''\n",
    "num = 0\n",
    "for index, row in output_from_bert.iterrows():\n",
    "    if row[1] == 'O':\n",
    "        if len(tag) > 0 and tag[-1] != ',':\n",
    "            tag += ','\n",
    "    if row[1] == '[CLS]':\n",
    "        tag = ''\n",
    "    if row[1] == '[SEP]':\n",
    "        while len(tag) > 0 and tag[-1] == ',':\n",
    "            tag = tag[:-1]\n",
    "        if len(tag) == 0:\n",
    "            tag = '1'\n",
    "        # print(str(tag))\n",
    "        result.loc[num, 'key_words'] = str(tag)\n",
    "        count = 0         # 进一步处理：去掉只有单个字的关键词\n",
    "        flag = list()\n",
    "        for i in range(len(tag)):\n",
    "            count += 1\n",
    "            if tag[i] == ',':\n",
    "                if count == 2:\n",
    "                    flag.append(i)\n",
    "                count = 0\n",
    "        if count == 1:\n",
    "            tag = tag[:-2]\n",
    "        for j in range(len(flag)):\n",
    "            if flag[j] - 2 * j - 2 < 0:\n",
    "                tag = tag[2:]\n",
    "            else:\n",
    "                tag = tag[:flag[j] - 2 * j - 2] + tag[flag[j] - 2 * j:]\n",
    "        tag = test_filter(tag)\n",
    "        result.loc[num, 'process_key_words'] = str(tag)\n",
    "        num += 1\n",
    "        tag = ''\n",
    "    if row[1] == 'B':\n",
    "        if len(tag) > 0 and tag[-1] != ',':\n",
    "            tag += ','\n",
    "        tag += row[2]\n",
    "    if row[1] == 'I':\n",
    "        tag += row[2]\n",
    "    if row[1] == 'E':\n",
    "        tag += row[2]\n",
    "result.to_excel(file2 + '-result.xls')"
   ]
  },
  {
   "cell_type": "code",
   "execution_count": null,
   "id": "22766871",
   "metadata": {},
   "outputs": [],
   "source": []
  },
  {
   "cell_type": "code",
   "execution_count": 45,
   "id": "ba0f7ed1",
   "metadata": {},
   "outputs": [
    {
     "name": "stdout",
     "output_type": "stream",
     "text": [
      "1778\n"
     ]
    }
   ],
   "source": [
    "# 返回一个list，包含\"规则表\"里已有的keywords和\"百观标准品类\"里c1,c2,c3的内容\n",
    "rule_table = pd.read_excel('/tools/EC-新锐赛道规则表-规则表.xlsx', engine='openpyxl')\n",
    "category_table = pd.read_excel('/tools/百观标准品类.xlsx', engine='openpyxl')\n",
    "include = list()\n",
    "for data in rule_table['spu_include'].values:\n",
    "    data = data.strip('\"')\n",
    "    split_tag = data.split(',')\n",
    "    include += split_tag\n",
    "include = list(set(include))\n",
    "include = include + list(set(category_table['bg1_c1'].values)) + list(set(category_table['bg1_c2'].values)) + list(set(category_table['bg1_c3'].values))\n",
    "print(len(include))"
   ]
  },
  {
   "cell_type": "code",
   "execution_count": 46,
   "id": "9041ce77",
   "metadata": {},
   "outputs": [
    {
     "name": "stdout",
     "output_type": "stream",
     "text": [
      "17684 1778 16959\n"
     ]
    }
   ],
   "source": [
    "# 得到废词\n",
    "all_data = pd.read_excel('/tools/关键词all.xlsx', engine='openpyxl')\n",
    "included_keywords = include\n",
    "all_keywords = list()\n",
    "for data in all_data['新概念词'].values:\n",
    "    data = str(data)\n",
    "    # data = data.strip(' ')\n",
    "    split_tag = data.split('、')\n",
    "    all_keywords += split_tag\n",
    "all_keywords = list(set(all_keywords))\n",
    "obsolete = [val for val in all_keywords if val not in included_keywords]\n",
    "print(len(all_keywords),len(included_keywords),len(obsolete))"
   ]
  },
  {
   "cell_type": "code",
   "execution_count": null,
   "id": "316cf2fb",
   "metadata": {},
   "outputs": [],
   "source": []
  },
  {
   "cell_type": "code",
   "execution_count": 50,
   "id": "df8f4a02",
   "metadata": {},
   "outputs": [
    {
     "name": "stdout",
     "output_type": "stream",
     "text": [
      "Duration for this process is 0.021295050779978435 seconds\n"
     ]
    }
   ],
   "source": [
    "#### 把有多个关键词拆成多列\n",
    "# read the data \n",
    "start = time.time()\n",
    "workbook = xlrd.open_workbook('新锐赛道头部商品11月-result.xls')\n",
    "booksheet = workbook.sheet_by_name('Sheet1')\n",
    "\n",
    "write_workbook = xlwt.Workbook(encoding='utf-8')\n",
    "booksheet02 = write_workbook.add_sheet('Sheet 1', cell_overwrite_ok=True)\n",
    "col_ = 0\n",
    "col = 0\n",
    "for row in range(booksheet.nrows):\n",
    "    row_content = booksheet.row_values(row)\n",
    "    col_5 = row_content[5].split(',')\n",
    "    col_ += len(col_5)\n",
    "    for j in range(0, len(col_5)):\n",
    "        rowdata = [row_content[0], row_content[1], row_content[2], row_content[3], row_content[4], \n",
    "                   col_5[j]]\n",
    "        if col < col_:\n",
    "            for i in range(len(rowdata)):\n",
    "                booksheet02.write(col, i, rowdata[i])\n",
    "            col += 1\n",
    "end = time.time()\n",
    "duration = end - start\n",
    "print(\"Duration for this process is \" + str(duration/60) + ' seconds')\n",
    "write_workbook.save('新锐赛道头部商品11月-result_v1.xls')\n",
    "#write_workbook.close()"
   ]
  },
  {
   "cell_type": "code",
   "execution_count": 51,
   "id": "5fbf9494",
   "metadata": {
    "scrolled": true
   },
   "outputs": [
    {
     "data": {
      "text/html": [
       "<div>\n",
       "<style scoped>\n",
       "    .dataframe tbody tr th:only-of-type {\n",
       "        vertical-align: middle;\n",
       "    }\n",
       "\n",
       "    .dataframe tbody tr th {\n",
       "        vertical-align: top;\n",
       "    }\n",
       "\n",
       "    .dataframe thead th {\n",
       "        text-align: right;\n",
       "    }\n",
       "</style>\n",
       "<table border=\"1\" class=\"dataframe\">\n",
       "  <thead>\n",
       "    <tr style=\"text-align: right;\">\n",
       "      <th></th>\n",
       "      <th>Unnamed: 0</th>\n",
       "      <th>spu_id</th>\n",
       "      <th>platform</th>\n",
       "      <th>spu_name</th>\n",
       "      <th>key_words</th>\n",
       "      <th>process_key_words</th>\n",
       "    </tr>\n",
       "  </thead>\n",
       "  <tbody>\n",
       "    <tr>\n",
       "      <th>0</th>\n",
       "      <td>0</td>\n",
       "      <td>100032848215</td>\n",
       "      <td>1</td>\n",
       "      <td>劲度 N95型口罩医用一次性防护口罩 n95级医用双层熔喷布防细菌飞沫雾霾透气成人男女通用1...</td>\n",
       "      <td>1</td>\n",
       "      <td>NaN</td>\n",
       "    </tr>\n",
       "    <tr>\n",
       "      <th>1</th>\n",
       "      <td>1</td>\n",
       "      <td>100039268128</td>\n",
       "      <td>1</td>\n",
       "      <td>振德（ZHENDE）一次性成人医用外科国庆口罩中国庆包装款玫红渐变色独立包装10只/盒（二类...</td>\n",
       "      <td>1</td>\n",
       "      <td>NaN</td>\n",
       "    </tr>\n",
       "    <tr>\n",
       "      <th>2</th>\n",
       "      <td>2</td>\n",
       "      <td>100027702188</td>\n",
       "      <td>1</td>\n",
       "      <td>雅培（Abbott）血糖仪家用瞬感动态监测血糖仪免采血探头传感器 1个装 【大促超值13赠1...</td>\n",
       "      <td>血糖仪,血糖仪</td>\n",
       "      <td>血糖仪</td>\n",
       "    </tr>\n",
       "    <tr>\n",
       "      <th>3</th>\n",
       "      <td>3</td>\n",
       "      <td>908664</td>\n",
       "      <td>1</td>\n",
       "      <td>欧姆龙（OMRON）电子血压计家用上臂式大画面 医用测量血压仪 U724J 医用级全自动臂筒...</td>\n",
       "      <td>电子血压计</td>\n",
       "      <td>电子血压计</td>\n",
       "    </tr>\n",
       "    <tr>\n",
       "      <th>4</th>\n",
       "      <td>4</td>\n",
       "      <td>100005926666</td>\n",
       "      <td>1</td>\n",
       "      <td>三诺血糖仪家用 语音播报智能医用 脱氢酶血糖试纸 GA-3型套装（仪器+50支试纸+50支采...</td>\n",
       "      <td>1</td>\n",
       "      <td>NaN</td>\n",
       "    </tr>\n",
       "    <tr>\n",
       "      <th>5</th>\n",
       "      <td>5</td>\n",
       "      <td>100039268318</td>\n",
       "      <td>1</td>\n",
       "      <td>可孚 新冠抗原检测盒病毒快速自测核酸试剂盒新型冠状家庭家用公司用试纸包【现货速发20人份】 ...</td>\n",
       "      <td>抗原检测盒,核酸试剂盒</td>\n",
       "      <td>抗原检测盒</td>\n",
       "    </tr>\n",
       "    <tr>\n",
       "      <th>6</th>\n",
       "      <td>5</td>\n",
       "      <td>100039268318</td>\n",
       "      <td>1</td>\n",
       "      <td>可孚 新冠抗原检测盒病毒快速自测核酸试剂盒新型冠状家庭家用公司用试纸包【现货速发20人份】 ...</td>\n",
       "      <td>抗原检测盒,核酸试剂盒</td>\n",
       "      <td>核酸试剂盒</td>\n",
       "    </tr>\n",
       "    <tr>\n",
       "      <th>7</th>\n",
       "      <td>6</td>\n",
       "      <td>522676</td>\n",
       "      <td>1</td>\n",
       "      <td>小林制药 小林暖宝宝 暖贴暖宝宝贴膝盖关节膝肘兼用暖身贴保暖自发热贴6片或6+赠2片（两款随...</td>\n",
       "      <td>1</td>\n",
       "      <td>NaN</td>\n",
       "    </tr>\n",
       "    <tr>\n",
       "      <th>8</th>\n",
       "      <td>7</td>\n",
       "      <td>100011271419</td>\n",
       "      <td>1</td>\n",
       "      <td>鱼跃(YUWELL)雾化器雾化机儿童成人家用医用压缩雾化器403M 空气压缩式雾化仪面罩 店...</td>\n",
       "      <td>雾化器,雾化仪,雾化器</td>\n",
       "      <td>雾化仪</td>\n",
       "    </tr>\n",
       "    <tr>\n",
       "      <th>9</th>\n",
       "      <td>7</td>\n",
       "      <td>100011271419</td>\n",
       "      <td>1</td>\n",
       "      <td>鱼跃(YUWELL)雾化器雾化机儿童成人家用医用压缩雾化器403M 空气压缩式雾化仪面罩 店...</td>\n",
       "      <td>雾化器,雾化仪,雾化器</td>\n",
       "      <td>雾化器</td>\n",
       "    </tr>\n",
       "  </tbody>\n",
       "</table>\n",
       "</div>"
      ],
      "text/plain": [
       "   Unnamed: 0        spu_id  platform  \\\n",
       "0           0  100032848215         1   \n",
       "1           1  100039268128         1   \n",
       "2           2  100027702188         1   \n",
       "3           3        908664         1   \n",
       "4           4  100005926666         1   \n",
       "5           5  100039268318         1   \n",
       "6           5  100039268318         1   \n",
       "7           6        522676         1   \n",
       "8           7  100011271419         1   \n",
       "9           7  100011271419         1   \n",
       "\n",
       "                                            spu_name    key_words  \\\n",
       "0  劲度 N95型口罩医用一次性防护口罩 n95级医用双层熔喷布防细菌飞沫雾霾透气成人男女通用1...            1   \n",
       "1  振德（ZHENDE）一次性成人医用外科国庆口罩中国庆包装款玫红渐变色独立包装10只/盒（二类...            1   \n",
       "2  雅培（Abbott）血糖仪家用瞬感动态监测血糖仪免采血探头传感器 1个装 【大促超值13赠1...      血糖仪,血糖仪   \n",
       "3  欧姆龙（OMRON）电子血压计家用上臂式大画面 医用测量血压仪 U724J 医用级全自动臂筒...        电子血压计   \n",
       "4  三诺血糖仪家用 语音播报智能医用 脱氢酶血糖试纸 GA-3型套装（仪器+50支试纸+50支采...            1   \n",
       "5  可孚 新冠抗原检测盒病毒快速自测核酸试剂盒新型冠状家庭家用公司用试纸包【现货速发20人份】 ...  抗原检测盒,核酸试剂盒   \n",
       "6  可孚 新冠抗原检测盒病毒快速自测核酸试剂盒新型冠状家庭家用公司用试纸包【现货速发20人份】 ...  抗原检测盒,核酸试剂盒   \n",
       "7  小林制药 小林暖宝宝 暖贴暖宝宝贴膝盖关节膝肘兼用暖身贴保暖自发热贴6片或6+赠2片（两款随...            1   \n",
       "8  鱼跃(YUWELL)雾化器雾化机儿童成人家用医用压缩雾化器403M 空气压缩式雾化仪面罩 店...  雾化器,雾化仪,雾化器   \n",
       "9  鱼跃(YUWELL)雾化器雾化机儿童成人家用医用压缩雾化器403M 空气压缩式雾化仪面罩 店...  雾化器,雾化仪,雾化器   \n",
       "\n",
       "  process_key_words  \n",
       "0               NaN  \n",
       "1               NaN  \n",
       "2               血糖仪  \n",
       "3             电子血压计  \n",
       "4               NaN  \n",
       "5             抗原检测盒  \n",
       "6             核酸试剂盒  \n",
       "7               NaN  \n",
       "8               雾化仪  \n",
       "9               雾化器  "
      ]
     },
     "execution_count": 51,
     "metadata": {},
     "output_type": "execute_result"
    }
   ],
   "source": [
    "table = pd.read_excel('新锐赛道头部商品11月-result_v1.xls')\n",
    "table.head(10)"
   ]
  },
  {
   "cell_type": "markdown",
   "id": "b940bf2a",
   "metadata": {},
   "source": [
    "## Word frequency"
   ]
  },
  {
   "cell_type": "code",
   "execution_count": 52,
   "id": "193986ff",
   "metadata": {},
   "outputs": [],
   "source": [
    "# 统计词频率\n",
    "table = pd.read_excel('新锐赛道头部商品11月-result_v1.xls')\n",
    "keywords = list(table['process_key_words'])\n",
    "counter = Counter(keywords)\n",
    "dictionary = dict(counter)\n",
    "\n",
    "col_name = table.columns.tolist()\n",
    "index = col_name.index('process_key_words') + 1\n",
    "col_name.insert(index, 'frequency')\n",
    "\n",
    "table = table.reindex(columns=col_name)\n",
    "\n",
    "for index, row in table.iterrows():\n",
    "    x = str(row[5])\n",
    "    if x != \"nan\":\n",
    "        row[6] = dictionary[row[5]]\n",
    "    else:\n",
    "        row[6] = row[5]\n",
    "    table.loc[index, 'frequency'] = str(row[6])\n",
    "table.to_excel('新锐赛道头部商品11月-result_v2.xlsx')"
   ]
  },
  {
   "cell_type": "code",
   "execution_count": null,
   "id": "416447ea",
   "metadata": {},
   "outputs": [],
   "source": []
  },
  {
   "cell_type": "markdown",
   "id": "8151eda0",
   "metadata": {},
   "source": [
    "## Produce new word"
   ]
  },
  {
   "cell_type": "code",
   "execution_count": 53,
   "id": "b5f5b7de",
   "metadata": {},
   "outputs": [],
   "source": [
    "#  新增词保存到newwords.txt\n",
    "spu_include_data = include\n",
    "\n",
    "table = pd.read_excel('新锐赛道头部商品11月-result_v2.xlsx')\n",
    "col_name = table.columns.tolist()\n",
    "index = col_name.index('frequency') + 1\n",
    "col_name.insert(index, 'new_keyword')\n",
    "table = table.reindex(columns=col_name)\n",
    "new_word=list()\n",
    "for index, row in table.iterrows():\n",
    "    x = str(row[6])\n",
    "    if x != \"nan\" and x not in spu_include_data:\n",
    "        new_word.append(x)\n",
    "        row[7] = 1\n",
    "        table.loc[index, 'new_keyword'] = str(row[7])\n",
    "table.to_excel('新锐赛道头部商品11月-result_v3.xlsx')\n",
    "#     df = pd.read_excel(\"2022年1月天猫新品商品标题-split.xlsx\",engine='openpyxl', usecols=[2,3,4,5,6,7,8],names=None)\n",
    "#     df.to_excel('2022年1月天猫新品商品标题-split.xlsx')\n"
   ]
  },
  {
   "cell_type": "markdown",
   "id": "90d4d878",
   "metadata": {},
   "source": [
    "## Add other columns "
   ]
  },
  {
   "cell_type": "code",
   "execution_count": 54,
   "id": "6d98155a",
   "metadata": {},
   "outputs": [],
   "source": [
    "data = pd.read_excel('新锐赛道头部商品11月-result.xls')\n",
    "other_columns = data[['spu_id', 'bg1_c1', 'bg1_c2', 'bg1_c3', 'catid_path', 'gmv', 'unit_sold', 'us_mom', 'gmv_mom', 'rn']]\n",
    "\n",
    "df = pd.read_excel('新锐赛道头部商品11月-result_v3.xlsx', engine = 'openpyxl')\n",
    "full_data = df.merge(other_columns, on = ['spu_id'], how = 'left')\n",
    "\n",
    "full_data.to_excel('新锐赛道头部商品11月-result_v3.xlsx')\n"
   ]
  },
  {
   "cell_type": "code",
   "execution_count": null,
   "id": "01b791e6",
   "metadata": {},
   "outputs": [],
   "source": [
    "new_word=list(set(new_word))\n",
    "f = open(\"newwords.txt\",\n",
    "         'a')\n",
    "for i in range(len(new_word)):\n",
    "    f.write(new_word[i])  # 将category写入文件中\n",
    "    f.write(\"\\n\")  # 换行"
   ]
  },
  {
   "cell_type": "code",
   "execution_count": null,
   "id": "6bb7ced2",
   "metadata": {},
   "outputs": [],
   "source": []
  }
 ],
 "metadata": {
  "kernelspec": {
   "display_name": "Python 3 (ipykernel)",
   "language": "python",
   "name": "python3"
  },
  "language_info": {
   "codemirror_mode": {
    "name": "ipython",
    "version": 3
   },
   "file_extension": ".py",
   "mimetype": "text/x-python",
   "name": "python",
   "nbconvert_exporter": "python",
   "pygments_lexer": "ipython3",
   "version": "3.9.7"
  }
 },
 "nbformat": 4,
 "nbformat_minor": 5
}
