{
 "cells": [
  {
   "cell_type": "markdown",
   "id": "a0d83766",
   "metadata": {},
   "source": [
    "## Data Preprocessing"
   ]
  },
  {
   "cell_type": "code",
   "execution_count": 13,
   "id": "65be33af",
   "metadata": {},
   "outputs": [],
   "source": [
    "import pandas as pd"
   ]
  },
  {
   "cell_type": "code",
   "execution_count": 20,
   "id": "86c7437b",
   "metadata": {},
   "outputs": [
    {
     "data": {
      "text/plain": [
       "'/Users/zouyang/Documents/Data science/ner'"
      ]
     },
     "execution_count": 20,
     "metadata": {},
     "output_type": "execute_result"
    }
   ],
   "source": [
    "import os\n",
    "import time \n",
    "pd.set_option('display.max_columns', None)\n",
    "os.getcwd()"
   ]
  },
  {
   "cell_type": "code",
   "execution_count": 17,
   "id": "b4adc306",
   "metadata": {},
   "outputs": [],
   "source": [
    "# import data \n",
    "# 人工清洗数据 10月数据\n",
    "table1 = pd.read_excel(io = '/Users/zouyang/Documents/Data science/ner/202210新锐赛道清洗.xlsx',engine='openpyxl')\n",
    "#模型结果\n",
    "table2 = pd.read_excel(io= '/Users/zouyang/Documents/Data science/ner/新锐赛道头部商品10月-result_v1.xlsx',engine='openpyxl')\n",
    "\n",
    "table1 = table1[['spu_id', 'spu_name', 'spu_include', 'spu_include_correct']]\n",
    "table2 = table2[['spu_id', 'spu_name', 'process_key_words']]\n",
    "\n",
    "\n"
   ]
  },
  {
   "cell_type": "code",
   "execution_count": 16,
   "id": "cf58196a",
   "metadata": {},
   "outputs": [],
   "source": [
    "# import data \n",
    "# 人工清洗数据 2月数据\n",
    "table1 = pd.read_excel(io = '/Users/zouyang/Documents/Data science/ner/2022年2月天猫新品训练数据.xlsx',engine='openpyxl')\n",
    "#模型结果\n",
    "table2 = pd.read_excel(io= '/Users/zouyang/Documents/Data science/ner/2022年2月天猫新品商品标题-split.xlsx',engine='openpyxl')\n",
    "\n",
    "table1 = table1[['spu_id', 'spu_name', 'spu_include', 'spu_include_correct']]\n",
    "table2 = table2[['spu_id', 'spu_name', 'keywords_without_obsolete']]\n",
    "\n"
   ]
  },
  {
   "cell_type": "code",
   "execution_count": null,
   "id": "efee352c",
   "metadata": {},
   "outputs": [],
   "source": [
    "\n",
    "start = time.time()\n",
    "for index2, row2 in table2.iterrows():\n",
    "    for index1, row1 in table1.iterrows():\n",
    "        if row2[0] == row1[0] and row2[1] == row1[1] and row2[2] == row1[2] and row1[3] != '不是新锐赛道' and str(\n",
    "                row1[3]) != 'nan':\n",
    "            row2[2] = row1[3]\n",
    "    table2.loc[index2, 'process_key_words'] = row2[2]\n",
    "end = time.time()\n",
    "duration = end - start \n",
    "print(\"The time spending is: \" + str(duration))\n"
   ]
  },
  {
   "cell_type": "code",
   "execution_count": null,
   "id": "d1e56635",
   "metadata": {},
   "outputs": [],
   "source": [
    "table2.to_excel('/Users/zouyang/Documents/Data science/ner/新锐赛道头部商品10月-split-清洗后.xlsx')"
   ]
  },
  {
   "cell_type": "markdown",
   "id": "e72d52f5",
   "metadata": {},
   "source": [
    "## clean_merge"
   ]
  },
  {
   "cell_type": "code",
   "execution_count": 26,
   "id": "e5c2a674",
   "metadata": {},
   "outputs": [
    {
     "name": "stdout",
     "output_type": "stream",
     "text": [
      "<class 'pandas.core.frame.DataFrame'>\n",
      "Int64Index: 2516 entries, 0 to 2855\n",
      "Data columns (total 5 columns):\n",
      " #   Column                       Non-Null Count  Dtype \n",
      "---  ------                       --------------  ----- \n",
      " 0   spu_id                       2516 non-null   int64 \n",
      " 1   spu_name                     2516 non-null   object\n",
      " 2   spu_include                  2511 non-null   object\n",
      " 3   spu_include_correct          2516 non-null   object\n",
      " 4   keywords_without_obsolete_y  2516 non-null   object\n",
      "dtypes: int64(1), object(4)\n",
      "memory usage: 117.9+ KB\n",
      "              spu_id                                           spu_name  \\\n",
      "0       100019125569  联想拯救者Y9000P 2022 16英寸游戏笔记本电脑(12代 i7-12700H 16G...   \n",
      "1       100038993607  联想拯救者Y9000P 2022 16英寸游戏笔记本电脑(12代 i7-12700H 16G...   \n",
      "2       100033822492  联想拯救者Y9000P 2022 16英寸游戏笔记本电脑(12代 i7-12700H 16G...   \n",
      "3       679040984188  【24期免息 学生赠充电宝】OPPO 一加 Ace Pro 5g新品学生OnePlus游戏智...   \n",
      "4       654578360475  【立即抢购】小米/红米Redmi Note 11 5G 5000mAh大电量智能红米手机5千...   \n",
      "...              ...                                                ...   \n",
      "2851    582567919160              高品质腔体耦合器 高性能耦合器 5DB7DB10DB 室内覆盖wifi基站   \n",
      "2852  10052270790744                  新编大学英语第四版综合教程2学生用书 含激活码 浙江大学编 外研社   \n",
      "2853    660528995164                     摇步器手机通用计步器摇步机自动刷步神器静音平安摇步数苹果摇摆   \n",
      "2854  10059524797775                                      超低价咨询特买车 拿铁大杯   \n",
      "2855  10031777440785               定金 【2999元购车礼包】捷途汽车9.9元下订购车享2999元购车礼包   \n",
      "\n",
      "     keywords_without_obsolete_y  \n",
      "0                          笔记本电脑  \n",
      "1                          笔记本电脑  \n",
      "2                          笔记本电脑  \n",
      "3                           5g手机  \n",
      "4                           5g手机  \n",
      "...                          ...  \n",
      "2851                      高性能耦合器  \n",
      "2852                        电子课本  \n",
      "2853                         摇步器  \n",
      "2854                         特卖车  \n",
      "2855                        购车礼包  \n",
      "\n",
      "[2516 rows x 3 columns]\n"
     ]
    },
    {
     "name": "stderr",
     "output_type": "stream",
     "text": [
      "/Users/zouyang/opt/anaconda3/lib/python3.9/site-packages/pandas/util/_decorators.py:311: SettingWithCopyWarning: \n",
      "A value is trying to be set on a copy of a slice from a DataFrame\n",
      "\n",
      "See the caveats in the documentation: https://pandas.pydata.org/pandas-docs/stable/user_guide/indexing.html#returning-a-view-versus-a-copy\n",
      "  return func(*args, **kwargs)\n"
     ]
    }
   ],
   "source": [
    "table1.info()\n",
    "result = table1\n",
    "result['keywords_without_obsolete_y'] = table1['spu_include_correct']\n",
    "result = result[['spu_id','spu_name', 'keywords_without_obsolete_y']]\n",
    "\n",
    "result.drop_duplicates(subset=['spu_id'], keep='first', inplace=True)\n",
    "print(result)\n",
    "result.to_excel('/Users/zouyang/Documents/Data science/ner/2022年10月天猫新品商品标题-split-清洗后merge.xlsx')"
   ]
  },
  {
   "cell_type": "code",
   "execution_count": 23,
   "id": "0e2296da",
   "metadata": {},
   "outputs": [
    {
     "name": "stdout",
     "output_type": "stream",
     "text": [
      "      Unnamed: 0        spu_id                                     spu_name  \\\n",
      "0              0  655601286852     Uniqlo 男装 无缝羽绒长大衣(外套 防风 防水 轻量 加厚) 442149   \n",
      "1              1  660296484384        Uniqlo 男装 高性能复合大衣(外套 防风 防水 加厚) 442144   \n",
      "2              2  663764767640  Uniqlo 男装 高级轻型羽绒茄克(3D CUT 外套轻暖可携式防水) 439589   \n",
      "3              3  655995603320      Uniqlo 男装 无缝羽绒大衣(外套 防风 防水 轻量 加厚) 442145   \n",
      "4              4  653801433597         Uniqlo秋冬合作款男装女装摇粒绒宽松茄克外套长袖保暖抓绒442882   \n",
      "...          ...           ...                                          ...   \n",
      "5146        3210  627704691508               家用热水瓶塞暖瓶塞暖壶塞矽胶软木塞开水瓶塞保温瓶塞木质暖瓶盖   \n",
      "5155        3213  639007293389               宠物托运服务全国猫咪专车运输代办狗狗快递空运邮寄国际物流寄送   \n",
      "5156        3214   16458204334               清水热水瓶家用大容量不锈钢暖水壶老式保温壶办公室宿舍保温暖瓶   \n",
      "5157        3215  649344964846               家用不锈钢热水瓶塞子矽胶暖壶塞暖瓶塞热水壶塞开水瓶塞保温瓶塞   \n",
      "5161        3217   14414457974               清水热水瓶家用按压式不锈钢保温瓶办公室气压保温暖壶自动上水壶   \n",
      "\n",
      "     keywords_without_obsolete_x keywords_without_obsolete_y  \n",
      "0                            长大衣                         长大衣  \n",
      "1                           复合大衣                        复合大衣  \n",
      "2                             茄克                          茄克  \n",
      "3                           羽绒大衣                        羽绒大衣  \n",
      "4                           茄克外套                        茄克外套  \n",
      "...                          ...                         ...  \n",
      "5146                        保温瓶塞               保温瓶塞,开水瓶塞,软木塞  \n",
      "5155                        宠物托运                        宠物托运  \n",
      "5156                        保温暖瓶                        保温暖瓶  \n",
      "5157                       热水瓶塞子                  热水瓶塞子,热水壶塞  \n",
      "5161                         温暖壶                     温暖壶,上水壶  \n",
      "\n",
      "[2451 rows x 5 columns]\n"
     ]
    }
   ],
   "source": [
    "table = pd.read_excel(\n",
    "        '/Users/zouyang/Documents/Data science/ner/新锐赛道头部商品10月-split-清洗后.xlsx', engine='openpyxl')\n",
    "df=pd.DataFrame(table)\n",
    "names=df[['spu_id','keywords_without_obsolete']]\n",
    "column_merge=[]\n",
    "for i in df['spu_id']:\n",
    "    temp=[]\n",
    "    for c in names[names['spu_id']==i]['keywords_without_obsolete']:\n",
    "        if str(c)!='nan':\n",
    "            temp.append(c)\n",
    "    column_merge.append(','.join(temp))\n",
    "spu_id=[]\n",
    "for i in df['spu_id']:\n",
    "    spu_id.append(i)\n",
    "data=pd.DataFrame(spu_id)\n",
    "data['keywords_without_obsolete']=column_merge\n",
    "data.columns=['spu_id','keywords_without_obsolete']\n",
    "result=pd.merge(df,data.loc[:,['spu_id','keywords_without_obsolete']],how='left',on='spu_id')\n",
    "result.drop_duplicates(subset=['spu_id'], keep='first', inplace=True)\n",
    "print(result)\n",
    "result.to_excel('/Users/zouyang/Documents/Data science/ner/2022年10月天猫新品商品标题-split-清洗后merge.xlsx')"
   ]
  },
  {
   "cell_type": "code",
   "execution_count": null,
   "id": "5ac748c8",
   "metadata": {},
   "outputs": [],
   "source": []
  },
  {
   "cell_type": "code",
   "execution_count": null,
   "id": "bed0856e",
   "metadata": {},
   "outputs": [],
   "source": []
  }
 ],
 "metadata": {
  "kernelspec": {
   "display_name": "Python 3 (ipykernel)",
   "language": "python",
   "name": "python3"
  },
  "language_info": {
   "codemirror_mode": {
    "name": "ipython",
    "version": 3
   },
   "file_extension": ".py",
   "mimetype": "text/x-python",
   "name": "python",
   "nbconvert_exporter": "python",
   "pygments_lexer": "ipython3",
   "version": "3.9.7"
  }
 },
 "nbformat": 4,
 "nbformat_minor": 5
}
